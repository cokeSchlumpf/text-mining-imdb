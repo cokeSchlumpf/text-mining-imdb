{
 "cells": [
  {
   "cell_type": "code",
   "execution_count": 7,
   "metadata": {},
   "outputs": [
    {
     "name": "stderr",
     "output_type": "stream",
     "text": [
      "[nltk_data] Downloading package stopwords to\n",
      "[nltk_data]     C:\\Users\\const\\AppData\\Roaming\\nltk_data...\n",
      "[nltk_data]   Unzipping corpora\\stopwords.zip.\n"
     ]
    },
    {
     "data": {
      "text/plain": [
       "True"
      ]
     },
     "execution_count": 7,
     "metadata": {},
     "output_type": "execute_result"
    }
   ],
   "source": [
    "import numpy as np\n",
    "import re\n",
    "import nltk\n",
    "from sklearn.datasets import load_files\n",
    "from nltk.corpus import stopwords\n",
    "nltk.download('stopwords')"
   ]
  },
  {
   "cell_type": "code",
   "execution_count": 16,
   "metadata": {},
   "outputs": [],
   "source": [
    "data = load_files(r\"C:\\\\Users\\\\const\\\\Documents\\\\Weiterbildung_DataScience\\\\Text Mining\\\\test\")\n",
    "X,y  = data.data, data.target"
   ]
  },
  {
   "cell_type": "code",
   "execution_count": 17,
   "metadata": {},
   "outputs": [],
   "source": [
    "documents = []\n",
    "for sen in range(0, len(X)):\n",
    "    # Remove all the special characters\n",
    "    document = re.sub(r'\\W', ' ', str(X[sen]))\n",
    "    # remove all single characters\n",
    "    document = re.sub(r'\\s+[a-zA-Z]\\s+', ' ', document)\n",
    "    # Remove single characters from the start\n",
    "    document = re.sub(r'\\^[a-zA-Z]\\s+', ' ', document) \n",
    "    # Substituting multiple spaces with single space\n",
    "    document = re.sub(r'\\s+', ' ', document, flags=re.I)\n",
    "    # Removing prefixed 'b'\n",
    "    document = re.sub(r'^b\\s+', '', document)\n",
    "    # Converting to Lowercase\n",
    "    document = document.lower()\n",
    "    # Lemmatization\n",
    "    document = document.split()\n",
    "    document = ' '.join(document)\n",
    "    \n",
    "    documents.append(document)"
   ]
  },
  {
   "cell_type": "code",
   "execution_count": 31,
   "metadata": {
    "collapsed": true,
    "jupyter": {
     "outputs_hidden": true
    }
   },
   "outputs": [
    {
     "name": "stdout",
     "output_type": "stream",
     "text": [
      "['don hate heather graham because she beautiful hate her because she fun to watch in this movie like the hip clothing and funky surroundings the actors in this flick work well together casey affleck is hysterical and heather graham literally lights up the screen the minor characters goran visnjic sigh and patricia velazquez are as talented as they are gorgeous congratulations miramax director lisa krueger', 'don know how this movie has received so many positive comments one can call it artistic and beautifully filmed but those things don make up for the empty plot that was filled with sexual innuendos wish had not wasted my time to watch this movie rather than being biographical it was poor excuse for promoting strange and lewd behavior it was just another hollywood attempt to convince us that that kind of life is normal and ok from the very beginning asked my self what was the point of this movie and continued watching hoping that it would change and was quite disappointed that it continued in the same vein am so glad did not spend the money to see this in theater', 'caught this movie on the horror channel and was quite impressed by the film gothic atmosphere and tone as big fan of all things vampire related am always happy to see new variation of the vampire mythos in this case ghoul like creature residing in lovecraftian other dimension the director has done brilliant job of conveying the dark mood of the subject using the decadent art scene as backdrop to what is essentially tale of love spanning time and space the pure love of friendship opposed to the lust for blood and life by the vampires in the story the characters in the story are transported to another dimension by the means of mind altering substance where shape shifting vampire creature appears to grant them their hearts desires whilst draining them of their life essence there are some analogies to drug addiction and loss of control and how this affects group of friends in an artistic circle enjoyed watching the 2 main male characters in the story chris ivan cevic and alex petrovich who were very attractive hunks always plus point in vampire story for the female viewers the special effects make up and creature effects were well done and the set design of the vampire dimension was very effective all in all an enjoyable take on vampire myths and recommended for anyone who likes their vampires with some intelligence and not just action the only thing missing to make it even better would have been bit more eroticism and nudity as it would have suited the plot and themes', 'nbc had chance to make powerful religious epic along the lines of the ten commandments and the greatest story ever told and instead they chose to make some halfhearted cartoon that was more like waterworld than anything else don recall bible passage where lot turns into pirate and attacks the ark nor do remember one where noah son develops serious friendship with an orange nor do remember noah being some crazy old loon who suddenly acts like he commanding naval fleet and runs around shouting nautical terms like hoist the mainstay this was possibly the worst marketing decision in history obviously the majority of people watching this were going to be jewish and christian parents with their kids so why on earth make the movie so offensive to those people if they were intentionally trying to offend why not advertise it that way and at least reel in the right audience hope they make real noah movie someday one done seriously and thoughtfully one that actually appeals to people and makes money until then don waste your time with this trash', 'looking for something shocking okay fine the imagery is that that about it this film attempts to make deep connections with the audience through various symbolism and just ends up being annoying am not quite sure if the director purpose was to truly portray some sort of deep message to his audience or if he just sought to shock the hell out of them with gore sex and violence am thinking that it was probably the first but in the failed attempt it simply ended up to be piece of artsy garbage with lots of blood some obnoxious characters and an over reliance on religious symbolism if you re looking for some independent film to critique for its attempted use of metaphor have at it if you are looking for gore flick that will make you queasy and uncomfortable here you go if you are looking for film that will irritate you to no end because you realize that in the end the message was stupid the movie was stupid and you will never get those minutes of your life back this is surely the film for you', 'are you in the house alone belongs to the pre cable tv days when the networks were eager to offer an alternative to popular tv shows it is well made thriller with talented cast and credible situations kathleen beller plays high school student who gets series of threatening letters everyone seems to think that it is nothing more than prank but beller is really scared tony bill and blythe danner play beller parents ellen travolta john sister is the high school principal and dennis quaid has one of his earliest roles as cocky rich kid it a competent chiller with still relevant social message beller is lovely if you are 30 or older you will remember that she was very popular among youngsters blythe danner who usually don like gives truly moving performance nice little film', 'think this is one hell of movie we can see steven fighting around with his martial art stuff again and like in all segal movies there a message in it without the message it would be one of many action fighting movies but the message is what makes segal movies great and special', 'watched this movie couple of weeks ago and must say was not impressed not at all do side with the other posters when it comes to the fine performances but some good performances do not make good movie br br on the discussion board found review by an anonymous poster that captured some of the main points it says deed poll is movie that raises many questions but hardly answers even few movie that is disturbing and above every attempt at categorizing an experiment and very conventional sexual drama despite some shocking scenes the brilliant acting of barbara kowa and andr xc3 xa9 schneider the partly very impressive editing and the good camera work steffen ritter make up for gross plot holes and some technical slips especially in sound however the boredom the audiences have to deal with for 40 minutes remains unfortunately this is true wasn intrigued by the story at all the protagonists are cold ambition less people they do lot of drugs and have lot of incestuous sex so what for many times the direction seemed to be virtually non existent not to mention the technical aspect the poor sound quality was enormously disturbing br br what the point of the movie what the message behind it all the anonymous reviewer said somehow biermann failed to make clear point and so the movie remains hanging in mid air without message thus the boredom blame on the movie the movie is reserved and emotionless cold almost neutral and it doesn take long to see the flaws for long stretches the characters of sean and ivy are not credible they clearly have difficulties with the english pronunciation the character of the mute brother is not developed very well some moments are very promising though in the scene where the call boy is skinned the one and only true love scene an intensity is reached that one would love to see the whole movie long as spectator one has to regret the chances given away again must agree did like the final scene especially because of the beautifully captured faces of gianni meurer and andr xc3 xa9 schneider but it was nothing compared to the boredom had to suffer for the first thirty minutes the sex scenes though were aesthetically staged and perfectly edited br br all in all deed poll was not my cup of tea good controversial idea wasted but it was interesting to see how movie can be made with practically no money maybe if they had bigger budget and more experienced director this would have become better movie', 'ocean twelve just plain stupid bad and nothing compared to the other two br br an art robbery 10 known actors at least weak script and very slow developing idea that why characterize movie only saw at least 20 minutes of it don get me wrong you may like it but only like the ocean films because of the heist theme if ocean 12 it not about heist then what the point to see it glad soderberg saw his main error and redeemed himself by making film far superior to the first one kudos for that br br steven soderberg isn really good director apart from his hit sex lies and videotapes nothing else happened so much great to the career of this director shame on him but his fault only', 'this excellent movie starring elizabeth montgomery is long overdue for release in dvd form the same can be said for her earlier also excellent movie case of rape can only hope that my comments spur some enterprising soul into placing both elizabeth montgomery movies on one dvd to be made available to her many fans for one believe this excellent actress role was unfortunately stereotyped by her role on bewitched and as result more serious acting roles were not made available to her am confident that if these two movies perhaps even trilogy with the legend of lizzie borden were released in dvd form her fans would set the record straight on how highly they regard her serious acting abilities']\n"
     ]
    }
   ],
   "source": [
    "print(documents[:10])"
   ]
  },
  {
   "cell_type": "code",
   "execution_count": 32,
   "metadata": {},
   "outputs": [],
   "source": [
    "from sklearn.feature_extraction.text import CountVectorizer\n",
    "vectorizer = CountVectorizer(max_features=1500, min_df=15, max_df=0.7, stop_words=stopwords.words('english'))\n",
    "X = vectorizer.fit_transform(documents).toarray()"
   ]
  },
  {
   "cell_type": "code",
   "execution_count": 33,
   "metadata": {},
   "outputs": [],
   "source": [
    "from sklearn.feature_extraction.text import TfidfTransformer\n",
    "tfidfconverter = TfidfTransformer()\n",
    "X = tfidfconverter.fit_transform(X).toarray()"
   ]
  },
  {
   "cell_type": "code",
   "execution_count": 34,
   "metadata": {},
   "outputs": [],
   "source": [
    "from sklearn.model_selection import train_test_split\n",
    "X_train, X_test, y_train, y_test = train_test_split(X, y, test_size=0.3)"
   ]
  },
  {
   "cell_type": "code",
   "execution_count": 35,
   "metadata": {},
   "outputs": [],
   "source": [
    "from sklearn.ensemble import RandomForestClassifier\n",
    "clf = RandomForestClassifier(n_estimators=10, random_state=0)\n",
    "clf.fit(X_train,y_train)\n",
    "y_pred=clf.predict(X_test)"
   ]
  },
  {
   "cell_type": "code",
   "execution_count": 36,
   "metadata": {},
   "outputs": [
    {
     "name": "stdout",
     "output_type": "stream",
     "text": [
      "[[3135  590]\n",
      " [ 645 3130]]\n",
      "              precision    recall  f1-score   support\n",
      "\n",
      "           0       0.83      0.84      0.84      3725\n",
      "           1       0.84      0.83      0.84      3775\n",
      "\n",
      "    accuracy                           0.84      7500\n",
      "   macro avg       0.84      0.84      0.84      7500\n",
      "weighted avg       0.84      0.84      0.84      7500\n",
      "\n",
      "0.8353333333333334\n"
     ]
    }
   ],
   "source": [
    "from sklearn.metrics import classification_report, confusion_matrix, accuracy_score\n",
    "print(confusion_matrix(y_test,y_pred))\n",
    "print(classification_report(y_test,y_pred))\n",
    "print(accuracy_score(y_test, y_pred))"
   ]
  }
 ],
 "metadata": {
  "kernelspec": {
   "display_name": "Python 3",
   "language": "python",
   "name": "python3"
  },
  "language_info": {
   "codemirror_mode": {
    "name": "ipython",
    "version": 3
   },
   "file_extension": ".py",
   "mimetype": "text/x-python",
   "name": "python",
   "nbconvert_exporter": "python",
   "pygments_lexer": "ipython3",
   "version": "3.7.3"
  }
 },
 "nbformat": 4,
 "nbformat_minor": 4
}
